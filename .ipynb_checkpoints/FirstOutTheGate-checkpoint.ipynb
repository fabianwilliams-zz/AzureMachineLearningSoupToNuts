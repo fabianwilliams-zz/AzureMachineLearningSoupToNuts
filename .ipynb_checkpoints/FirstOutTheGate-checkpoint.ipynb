{
 "cells": [
  {
   "cell_type": "code",
   "execution_count": 1,
   "metadata": {},
   "outputs": [
    {
     "name": "stdout",
     "output_type": "stream",
     "text": [
      "1.0.72\n"
     ]
    }
   ],
   "source": [
    "import azureml.core\n",
    "print(azureml.core.VERSION)"
   ]
  },
  {
   "cell_type": "markdown",
   "metadata": {},
   "source": [
    "# Connect to Azure\n",
    "## take information from azure portal and create config file"
   ]
  },
  {
   "cell_type": "code",
   "execution_count": 1,
   "metadata": {},
   "outputs": [
    {
     "name": "stderr",
     "output_type": "stream",
     "text": [
      "WARNING - Note, we have launched a browser for you to login. For old experience with device code, use \"az login --use-device-code\"\n"
     ]
    },
    {
     "name": "stdout",
     "output_type": "stream",
     "text": [
      "Performing interactive authentication. Please follow the instructions on the terminal.\n"
     ]
    },
    {
     "name": "stderr",
     "output_type": "stream",
     "text": [
      "WARNING - You have logged in. Now let us find all the subscriptions to which you have access...\n"
     ]
    },
    {
     "name": "stdout",
     "output_type": "stream",
     "text": [
      "Interactive authentication successfully completed.\n"
     ]
    }
   ],
   "source": [
    "from azureml.core import Workspace\n",
    "ws = Workspace.get(\n",
    "    name = \"ForDemoVid\",\n",
    "    subscription_id = \"5b016aa8-0641-4432-b647-f33c4ac22a0b\",\n",
    "    resource_group = \"KillAfterVideoPosted\"\n",
    ")"
   ]
  },
  {
   "cell_type": "code",
   "execution_count": 2,
   "metadata": {},
   "outputs": [
    {
     "data": {
      "text/plain": [
       "{'id': '/subscriptions/5b016aa8-0641-4432-b647-f33c4ac22a0b/resourceGroups/KillAfterVideoPosted/providers/Microsoft.MachineLearningServices/workspaces/ForDemoVid',\n",
       " 'name': 'ForDemoVid',\n",
       " 'location': 'eastus2',\n",
       " 'type': 'Microsoft.MachineLearningServices/workspaces',\n",
       " 'tags': {},\n",
       " 'sku': 'Basic',\n",
       " 'workspaceid': 'f9eb3ae7-13e5-43f5-bfbe-59e8d3796359',\n",
       " 'description': '',\n",
       " 'friendlyName': '',\n",
       " 'creationTime': '2019-11-03T19:30:01.1807602+00:00',\n",
       " 'keyVault': '/subscriptions/5b016aa8-0641-4432-b647-f33c4ac22a0b/resourcegroups/killaftervideoposted/providers/microsoft.keyvault/vaults/fordemovid2986818995',\n",
       " 'applicationInsights': '/subscriptions/5b016aa8-0641-4432-b647-f33c4ac22a0b/resourcegroups/killaftervideoposted/providers/microsoft.insights/components/fordemovid2758840233',\n",
       " 'identityPrincipalId': '9bea6c27-72b1-4b8c-9f03-60d96db93189',\n",
       " 'identityTenantId': '089bbce7-e8d5-43ba-a9b9-ca8340306e87',\n",
       " 'identityType': 'SystemAssigned',\n",
       " 'storageAccount': '/subscriptions/5b016aa8-0641-4432-b647-f33c4ac22a0b/resourcegroups/killaftervideoposted/providers/microsoft.storage/storageaccounts/fordemovid8994292625'}"
      ]
     },
     "execution_count": 2,
     "metadata": {},
     "output_type": "execute_result"
    }
   ],
   "source": [
    "ws.get_details()"
   ]
  },
  {
   "cell_type": "code",
   "execution_count": 3,
   "metadata": {},
   "outputs": [],
   "source": [
    "ws.write_config()"
   ]
  },
  {
   "cell_type": "code",
   "execution_count": null,
   "metadata": {},
   "outputs": [],
   "source": []
  }
 ],
 "metadata": {
  "kernelspec": {
   "display_name": "Python 3",
   "language": "python",
   "name": "python3"
  },
  "language_info": {
   "codemirror_mode": {
    "name": "ipython",
    "version": 3
   },
   "file_extension": ".py",
   "mimetype": "text/x-python",
   "name": "python",
   "nbconvert_exporter": "python",
   "pygments_lexer": "ipython3",
   "version": "3.7.3"
  }
 },
 "nbformat": 4,
 "nbformat_minor": 2
}
